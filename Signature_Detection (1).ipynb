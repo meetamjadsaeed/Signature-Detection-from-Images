{
  "cells": [
    {
      "cell_type": "markdown",
      "metadata": {
        "id": "kyuHH957DOKZ"
      },
      "source": [
        "## Prototype for Signature Detection"
      ]
    },
    {
      "cell_type": "markdown",
      "metadata": {
        "id": "533HNNHuDOKp"
      },
      "source": [
        "### Design\n",
        "\n",
        "- 1- Grayscale Image\n",
        "- 2- Threshold with Binary inversion and OTSU\n",
        "- 3- Remove Horizontal Lines and Vertical Lines\n",
        "- 4- Identify all regions with connected lines of a certain size (customizable threshold)\n",
        "- 5- List all detected signatures and bounding boxes\n",
        "\n",
        "Here is a sample visual output:"
      ]
    },
    {
      "cell_type": "markdown",
      "metadata": {
        "id": "W2-6cmUiDOKv"
      },
      "source": [
        "![Screen%20Shot%202019-11-10%20at%208.14.16%20AM.png](attachment:Screen%20Shot%202019-11-10%20at%208.14.16%20AM.png)"
      ]
    },
    {
      "cell_type": "code",
      "execution_count": null,
      "metadata": {
        "id": "pKQUDxRcDOKy",
        "outputId": "2d9d5927-fe90-4387-f705-8a94f2af0d2d"
      },
      "outputs": [
        {
          "name": "stdout",
          "output_type": "stream",
          "text": [
            "Number of Signatures detected:8\n"
          ]
        },
        {
          "data": {
            "image/png": "[encoded data removed]",
            "text/plain": [
              "<Figure size 720x432 with 1 Axes>"
            ]
          },
          "metadata": {
            "needs_background": "light"
          },
          "output_type": "display_data"
        },
        {
          "data": {
            "text/plain": [
              "True"
            ]
          },
          "execution_count": 8,
          "metadata": {},
          "output_type": "execute_result"
        }
      ],
      "source": [
        "import cv2\n",
        "import matplotlib.pyplot as plt\n",
        "from skimage import measure, morphology\n",
        "from skimage.color import label2rgb\n",
        "from skimage.measure import regionprops\n",
        "import matplotlib.patches as mpatches\n",
        "\n",
        "INPUTIMAGE = './inputs/signatures/in5.png'\n",
        "\n",
        "# Defines the output of openCV calls\n",
        "class CVOutput:\n",
        "    def __init__(self,image,error):\n",
        "        self.image = image\n",
        "        self.error = error\n",
        "\n",
        "class SignatureItem:\n",
        "    def __init__(self,minr,minc,maxr,maxc):\n",
        "        self.minr = minr\n",
        "        self.minc = minc\n",
        "        self.maxr = maxr\n",
        "        self.maxc = maxc\n",
        "\n",
        "#######\n",
        "# MAIN\n",
        "#######\n",
        "\n",
        "MIN_CONNECTED_THRESHOLD = 680\n",
        "MAX_CONNECTED_THRESHOLD = 8000\n",
        "DebugMode = True\n",
        "\n",
        "# Open image as grayscale\n",
        "image = cv2.imread(INPUTIMAGE,cv2.IMREAD_GRAYSCALE)\n",
        "\n",
        "\n",
        "# We NEED thresholding to remove vertical and horizontal lines\n",
        "thresh = cv2.threshold(image, 0, 255, cv2.THRESH_BINARY_INV + cv2.THRESH_OTSU)[1]\n",
        "\n",
        "# Remove horizontal lines\n",
        "horizontal_kernel = cv2.getStructuringElement(cv2.MORPH_RECT, (40,1))\n",
        "remove_horizontal = cv2.morphologyEx(thresh, cv2.MORPH_OPEN, horizontal_kernel, iterations=2)\n",
        "cnts = cv2.findContours(remove_horizontal, cv2.RETR_EXTERNAL, cv2.CHAIN_APPROX_SIMPLE)\n",
        "cnts = cnts[0] if len(cnts) == 2 else cnts[1]\n",
        "for c in cnts:\n",
        "    cv2.drawContours(image, [c], -1, (255,255,255), 5)\n",
        "\n",
        "# Remove vertical lines\n",
        "vertical_kernel = cv2.getStructuringElement(cv2.MORPH_RECT, (1,40))\n",
        "remove_vertical = cv2.morphologyEx(thresh, cv2.MORPH_OPEN, vertical_kernel, iterations=2)\n",
        "cnts = cv2.findContours(remove_vertical, cv2.RETR_EXTERNAL, cv2.CHAIN_APPROX_SIMPLE)\n",
        "cnts = cnts[0] if len(cnts) == 2 else cnts[1]\n",
        "for c in cnts:\n",
        "    cv2.drawContours(image, [c], -1, (255,255,255), 5)\n",
        "\n",
        "\n",
        "ObjOut = CVOutput(image,None)\n",
        "img = ObjOut.image\n",
        "\n",
        "# Uncomment the following line to create an image without lines\n",
        "#cv2.imwrite(\"./inputs/out5.png\",ObjOut.image)\n",
        "\n",
        "#img = image\n",
        "# connected component analysis by scikit-learn framework\n",
        "blobs = img > img.mean()\n",
        "blobs_labels = measure.label(blobs, background=1)\n",
        "image_label_overlay = label2rgb(blobs_labels, image=img)\n",
        "\n",
        "fig, ax = plt.subplots(figsize=(10, 6))\n",
        "\n",
        "the_biggest_component = 0\n",
        "\n",
        "AllSignatures = []\n",
        "\n",
        "for region in regionprops(blobs_labels):\n",
        "\n",
        "    if (region.area >= MIN_CONNECTED_THRESHOLD and region.area < MAX_CONNECTED_THRESHOLD):\n",
        "        if (region.area > the_biggest_component):\n",
        "            the_biggest_component = region.area\n",
        "\n",
        "        minr, minc, maxr, maxc = region.bbox\n",
        "        signature = SignatureItem(minr, minc, maxr, maxc)\n",
        "        #print(\"debug:\"+str(minr))\n",
        "        rect = mpatches.Rectangle((minc, minr), maxc - minc, maxr - minr,fill=False, edgecolor='red', linewidth=2)\n",
        "        ax.add_patch(rect)\n",
        "        AllSignatures.append(signature)\n",
        "\n",
        "print(\"Number of Signatures detected:\" + str(len(AllSignatures)))\n",
        "\n",
        "if(DebugMode == True):\n",
        "    ax.imshow(image_label_overlay)\n",
        "    ax.set_axis_off()\n",
        "    plt.tight_layout()\n",
        "    plt.show()\n",
        "\n",
        "imageCol = cv2.imread(INPUTIMAGE)\n",
        "for s in AllSignatures:\n",
        "\n",
        "    img_mod= cv2.rectangle(imageCol,(s.minc,s.minr),(s.maxc,s.maxr),(0, 0, 255), 2)\n",
        "\n",
        "cv2.imwrite(\"./inputs/signatures/out5_final.png\",img_mod)\n",
        "\n",
        "# TO DO: This method would improve big time if we merged overlapping bounding boxes\n"
      ]
    },
    {
      "cell_type": "code",
      "execution_count": null,
      "metadata": {
        "id": "tcscu_03DOK8"
      },
      "outputs": [],
      "source": []
    },
    {
      "cell_type": "code",
      "execution_count": null,
      "metadata": {
        "id": "gzt4V_d1DOK9"
      },
      "outputs": [],
      "source": []
    },
    {
      "cell_type": "code",
      "execution_count": null,
      "metadata": {
        "id": "vJiDjF5-DOLE"
      },
      "outputs": [],
      "source": []
    },
    {
      "cell_type": "code",
      "execution_count": null,
      "metadata": {
        "id": "L2SQnoagDOLH"
      },
      "outputs": [],
      "source": []
    },
    {
      "cell_type": "code",
      "execution_count": null,
      "metadata": {
        "id": "etwm8xNBDOLJ"
      },
      "outputs": [],
      "source": []
    }
  ],
  "metadata": {
    "celltoolbar": "Raw Cell Format",
    "kernelspec": {
      "display_name": "Python 3",
      "language": "python",
      "name": "python3"
    },
    "language_info": {
      "codemirror_mode": {
        "name": "ipython",
        "version": 3
      },
      "file_extension": ".py",
      "mimetype": "text/x-python",
      "name": "python",
      "nbconvert_exporter": "python",
      "pygments_lexer": "ipython3",
      "version": "3.7.3"
    },
    "colab": {
      "provenance": []
    }
  },
  "nbformat": 4,
  "nbformat_minor": 0
}